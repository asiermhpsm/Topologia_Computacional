{
  "cells": [
    {
      "cell_type": "markdown",
      "metadata": {
        "id": "Cyav8TGUnQUq"
      },
      "source": [
        "# **Práctica 1**"
      ]
    },
    {
      "cell_type": "code",
      "execution_count": 1,
      "metadata": {},
      "outputs": [],
      "source": [
        "from Topologia_comp import *"
      ]
    },
    {
      "cell_type": "markdown",
      "metadata": {
        "id": "RmC59TX2rAVe"
      },
      "source": [
        "## Comprobaciones complejos simpliciales"
      ]
    },
    {
      "cell_type": "markdown",
      "metadata": {
        "id": "b9Wp-pJorMjF"
      },
      "source": [
        "### Ejemplo 1"
      ]
    },
    {
      "cell_type": "markdown",
      "metadata": {},
      "source": [
        "![](imagenes/P1E1.png)"
      ]
    },
    {
      "cell_type": "code",
      "execution_count": 2,
      "metadata": {
        "colab": {
          "base_uri": "https://localhost:8080/"
        },
        "id": "TBf0O4Z2rD4m",
        "outputId": "e6b4db3c-dd79-4053-cfb3-86bab07c4a2c"
      },
      "outputs": [
        {
          "name": "stdout",
          "output_type": "stream",
          "text": [
            "Caras:  [[0], [0, 1], [0, 1, 2], [0, 1, 2, 3], [0, 1, 3], [0, 2], [0, 2, 3], [0, 3], [1], [1, 2], [1, 2, 3], [1, 3], [2], [2, 3], [3]]\n",
            "Dimension:  3\n",
            "Caras 0:  [[0], [1], [2], [3]]\n",
            "Caras 1:  [[0, 1], [0, 2], [0, 3], [1, 2], [1, 3], [2, 3]]\n",
            "Caras 2:  [[0, 1, 2], [0, 1, 3], [0, 2, 3], [1, 2, 3]]\n",
            "Caras 3:  [[0, 1, 2, 3]]\n",
            "Euler:  1\n",
            "Estrella:  [[0, 1], [0, 1, 2], [0, 1, 2, 3], [0, 1, 3]]\n",
            "Link:  [[2], [2, 3], [3]]\n",
            "Componentes conexas:  1\n"
          ]
        }
      ],
      "source": [
        "sc = Complejo_Simplicial([(0,1,2,3)])\n",
        "print('Caras: ', sc.caras())\n",
        "print('Dimension: ',sc.dimension())\n",
        "print('Caras 0: ', sc.carasN(0))\n",
        "print('Caras 1: ',sc.carasN(1))\n",
        "print('Caras 2: ',sc.carasN(2))\n",
        "print('Caras 3: ',sc.carasN(3))\n",
        "print('Euler: ', sc.euler())\n",
        "print('Estrella: ', sc.st([0,1]))\n",
        "print('Link: ', sc.link([0,1]))\n",
        "print('Componentes conexas: ', sc.comp_conex())"
      ]
    },
    {
      "cell_type": "markdown",
      "metadata": {
        "id": "1Gvm15e6rRW9"
      },
      "source": [
        "### Ejemplo2"
      ]
    },
    {
      "cell_type": "code",
      "execution_count": 3,
      "metadata": {
        "colab": {
          "base_uri": "https://localhost:8080/"
        },
        "id": "iAlov-sfrTf4",
        "outputId": "7720aae1-3fdc-4828-ec74-14e1e32736f2"
      },
      "outputs": [
        {
          "name": "stdout",
          "output_type": "stream",
          "text": [
            "Caras:  [[0], [0, 1], [0, 1, 2], [0, 1, 3], [0, 2], [0, 2, 3], [0, 3], [1], [1, 2], [1, 2, 3], [1, 3], [2], [2, 3], [3]]\n",
            "Dimension:  2\n",
            "Estrella:  [[0], [0, 1], [0, 1, 2], [0, 1, 3], [0, 2], [0, 2, 3], [0, 3]]\n",
            "Link:  [[1], [1, 2], [1, 3], [2], [2, 3], [3]]\n",
            "Euler:  2\n",
            "Componentes conexas:  1\n"
          ]
        }
      ],
      "source": [
        "sc1 = Complejo_Simplicial(sc.esqueleto(2))\n",
        "print('Caras: ', sc1.caras())\n",
        "print('Dimension: ',sc1.dimension())\n",
        "print('Estrella: ', sc1.st([0]))\n",
        "print('Link: ', sc1.link([0]))\n",
        "print('Euler: ', sc1.euler())\n",
        "print('Componentes conexas: ', sc1.comp_conex())"
      ]
    },
    {
      "cell_type": "markdown",
      "metadata": {
        "id": "2uuuFTYrueZn"
      },
      "source": [
        "### Ejemplo 3"
      ]
    },
    {
      "cell_type": "markdown",
      "metadata": {},
      "source": [
        "![](imagenes/P1E3.png)"
      ]
    },
    {
      "cell_type": "code",
      "execution_count": 4,
      "metadata": {
        "colab": {
          "base_uri": "https://localhost:8080/"
        },
        "id": "nSnpim28ugYZ",
        "outputId": "40ad8ae9-8ddf-41f1-ebba-fe297e28613f"
      },
      "outputs": [
        {
          "name": "stdout",
          "output_type": "stream",
          "text": [
            "Caras:  [[0], [0, 1], [1], [1, 2], [1, 2, 3], [1, 2, 3, 4], [1, 2, 4], [1, 3], [1, 3, 4], [1, 4], [2], [2, 3], [2, 3, 4], [2, 4], [3], [3, 4], [4], [4, 5], [4, 6], [5], [5, 6], [6], [6, 7], [6, 7, 8], [6, 8], [7], [7, 8], [8], [8, 9], [9]]\n",
            "Dimension:  3\n",
            "Esqueleto:  [[0], [0, 1], [1], [1, 2], [1, 3], [1, 4], [2], [2, 3], [2, 4], [3], [3, 4], [4], [4, 5], [4, 6], [5], [5, 6], [6], [6, 7], [6, 8], [7], [7, 8], [8], [8, 9], [9]]\n",
            "Estrella:  [[1, 2, 3, 4], [1, 2, 4], [1, 3, 4], [1, 4], [2, 3, 4], [2, 4], [3, 4], [4], [4, 5], [4, 6]]\n",
            "Link:  [[1], [1, 2], [1, 2, 3], [1, 3], [2], [2, 3], [3], [5], [6]]\n",
            "Euler:  0\n",
            "Componentes conexas:  1\n"
          ]
        }
      ],
      "source": [
        "sc = Complejo_Simplicial([[0,1], [1,2,3,4], [4,5], [5,6], [4,6], [6,7,8], [8,9]])\n",
        "print('Caras: ', sc.caras())\n",
        "print('Dimension: ',sc.dimension())\n",
        "print('Esqueleto: ',sc.esqueleto(1))\n",
        "print('Estrella: ', sc.st([4]))\n",
        "print('Link: ', sc.link([4]))\n",
        "print('Euler: ', sc.euler())\n",
        "print('Componentes conexas: ', sc.comp_conex())"
      ]
    },
    {
      "cell_type": "markdown",
      "metadata": {
        "id": "0_SBF6ccxoyY"
      },
      "source": [
        "### Ejemplo 4"
      ]
    },
    {
      "cell_type": "markdown",
      "metadata": {},
      "source": [
        "![](imagenes/P1E4.png)"
      ]
    },
    {
      "cell_type": "code",
      "execution_count": 5,
      "metadata": {
        "colab": {
          "base_uri": "https://localhost:8080/"
        },
        "id": "FAMH8uRRxqt0",
        "outputId": "3f74de91-9afd-4e69-d967-96afc37f2212"
      },
      "outputs": [
        {
          "name": "stdout",
          "output_type": "stream",
          "text": [
            "Euler:  -4\n"
          ]
        }
      ],
      "source": [
        "sc1 = Complejo_Simplicial(sc.esqueleto(1))\n",
        "print('Euler: ', sc1.euler())"
      ]
    },
    {
      "cell_type": "markdown",
      "metadata": {
        "id": "Nh9C4O0QxzoS"
      },
      "source": [
        "### Ejemplo 5"
      ]
    },
    {
      "cell_type": "markdown",
      "metadata": {},
      "source": [
        "![](imagenes/P1E5.png)"
      ]
    },
    {
      "cell_type": "code",
      "execution_count": 6,
      "metadata": {
        "colab": {
          "base_uri": "https://localhost:8080/"
        },
        "id": "0sHhTROnx1yV",
        "outputId": "48cd1e2b-c727-4978-f15b-3391dafe25d1"
      },
      "outputs": [
        {
          "name": "stdout",
          "output_type": "stream",
          "text": [
            "Caras:  [[0], [0, 1], [0, 1, 2], [0, 2], [1], [1, 2], [2], [2, 3], [3], [3, 4], [4]]\n",
            "Dimension:  2\n",
            "Esqueleto:  [[0], [0, 1], [0, 2], [1], [1, 2], [2], [2, 3], [3], [3, 4], [4]]\n",
            "Estrella:  [[0, 1, 2], [0, 2], [1, 2], [2], [2, 3]]\n",
            "Link:  [[0], [0, 1], [1], [3]]\n"
          ]
        }
      ],
      "source": [
        "sc = Complejo_Simplicial([[0,1,2], [2,3], [3,4]])\n",
        "print('Caras: ', sc.caras())\n",
        "print('Dimension: ',sc.dimension())\n",
        "print('Esqueleto: ',sc.esqueleto(1))\n",
        "print('Estrella: ', sc.st([2]))\n",
        "print('Link: ', sc.link([2]))"
      ]
    },
    {
      "cell_type": "markdown",
      "metadata": {
        "id": "LnnnRJVP4Wx-"
      },
      "source": [
        "### Ejemplo 6"
      ]
    },
    {
      "cell_type": "markdown",
      "metadata": {},
      "source": [
        "![](imagenes/P1E6.png)"
      ]
    },
    {
      "cell_type": "code",
      "execution_count": 7,
      "metadata": {
        "colab": {
          "base_uri": "https://localhost:8080/"
        },
        "id": "qVHD-ACT4YWU",
        "outputId": "56d14d25-8097-4db5-ec2f-b595c967414e"
      },
      "outputs": [
        {
          "name": "stdout",
          "output_type": "stream",
          "text": [
            "Caras:  [[1], [1, 2], [1, 2, 4], [1, 3], [1, 3, 6], [1, 4], [1, 4, 6], [1, 6], [2], [2, 3], [2, 3, 5], [2, 4], [2, 4, 5], [2, 5], [3], [3, 5], [3, 5, 6], [3, 6], [4], [4, 5], [4, 6], [5], [5, 6], [6]]\n",
            "Dimension:  2\n",
            "Esqueleto:  [[1], [1, 2], [1, 3], [1, 4], [1, 6], [2], [2, 3], [2, 4], [2, 5], [3], [3, 5], [3, 6], [4], [4, 5], [4, 6], [5], [5, 6], [6]]\n",
            "Estrella:  [[1, 2, 4], [1, 4], [1, 4, 6]]\n",
            "Link:  [[2], [6]]\n",
            "Euler:  0\n"
          ]
        }
      ],
      "source": [
        "sc = Complejo_Simplicial([[1,2,4],[1,3,6],[1,4,6],[2,3,5],[2,4,5],[3,5,6]])\n",
        "print('Caras: ', sc.caras())\n",
        "print('Dimension: ',sc.dimension())\n",
        "print('Esqueleto: ',sc.esqueleto(1))\n",
        "print('Estrella: ', sc.st([1,4]))\n",
        "print('Link: ', sc.link([1,4]))\n",
        "print('Euler: ', sc.euler())"
      ]
    },
    {
      "cell_type": "markdown",
      "metadata": {
        "id": "HzJGZFUE49Zd"
      },
      "source": [
        "### Ejemplo 7"
      ]
    },
    {
      "cell_type": "code",
      "execution_count": 8,
      "metadata": {
        "colab": {
          "base_uri": "https://localhost:8080/"
        },
        "id": "gz6aadEw4_i4",
        "outputId": "c7481929-2003-4836-bb38-e65491f59bb1"
      },
      "outputs": [
        {
          "name": "stdout",
          "output_type": "stream",
          "text": [
            "Euler:  -6\n"
          ]
        }
      ],
      "source": [
        "sc1 = Complejo_Simplicial(sc.esqueleto(1))\n",
        "print('Euler: ', sc1.euler())"
      ]
    },
    {
      "cell_type": "markdown",
      "metadata": {
        "id": "L_zTKPGP5QQP"
      },
      "source": [
        "### Ejemplo 8"
      ]
    },
    {
      "cell_type": "markdown",
      "metadata": {},
      "source": [
        "![](imagenes/P1E8.png)"
      ]
    },
    {
      "cell_type": "code",
      "execution_count": 9,
      "metadata": {
        "colab": {
          "base_uri": "https://localhost:8080/"
        },
        "id": "FgWS73Yd5Sqp",
        "outputId": "1cbc7178-8f5e-45aa-a9c7-dba167ac900a"
      },
      "outputs": [
        {
          "name": "stdout",
          "output_type": "stream",
          "text": [
            "Dimension:  2\n",
            "Caras 0:  [[1], [2], [3], [4], [5], [6], [7], [8], [9]]\n",
            "Caras 1:  [[1, 2], [1, 3], [1, 4], [1, 6], [1, 7], [1, 8], [2, 3], [2, 4], [2, 5], [2, 8], [2, 9], [3, 5], [3, 6], [3, 7], [3, 9], [4, 5], [4, 6], [4, 7], [4, 9], [5, 6], [5, 7], [5, 8], [6, 8], [6, 9], [7, 8], [7, 9], [8, 9]]\n",
            "Estrella:  [[1], [1, 2], [1, 2, 4], [1, 2, 8], [1, 3], [1, 3, 6], [1, 3, 7], [1, 4], [1, 4, 6], [1, 6], [1, 7], [1, 7, 8], [1, 8]]\n",
            "Link:  [[2], [2, 4], [2, 8], [3], [3, 6], [3, 7], [4], [4, 6], [6], [7], [7, 8], [8]]\n",
            "Euler:  0\n",
            "Componentes conexas:  1\n"
          ]
        }
      ],
      "source": [
        "sc=Complejo_Simplicial([[1,2,4], [2,4,5], [2,3,5], [3,5,6], [1,3,6], [1,4,6], [4,5,7], [5,7,8],[5,6,8],[6,8,9], [4,6,9], [4,7,9], [1,7,8], [1,2,8], [2,8,9], [2,3,9], [3,7,9], [1,3,7] ])\n",
        "print('Dimension: ',sc.dimension())\n",
        "print('Caras 0: ', sc.carasN(0))\n",
        "print('Caras 1: ', sc.carasN(1))\n",
        "print('Estrella: ', sc.st([1]))\n",
        "print('Link: ', sc.link([1]))\n",
        "print('Euler: ', sc.euler())\n",
        "print('Componentes conexas: ', sc.comp_conex())"
      ]
    },
    {
      "cell_type": "markdown",
      "metadata": {
        "id": "w6vHP_8-7Vvz"
      },
      "source": [
        "### Ejemplo 8.2"
      ]
    },
    {
      "cell_type": "code",
      "execution_count": 10,
      "metadata": {
        "colab": {
          "base_uri": "https://localhost:8080/"
        },
        "id": "m16CwSh07XoP",
        "outputId": "70d87760-8449-4b37-fce1-08eab4508b0a"
      },
      "outputs": [
        {
          "name": "stdout",
          "output_type": "stream",
          "text": [
            "Euler:  -18\n"
          ]
        }
      ],
      "source": [
        "sc1 = Complejo_Simplicial(sc.esqueleto(1))\n",
        "print('Euler: ', sc1.euler())"
      ]
    },
    {
      "cell_type": "markdown",
      "metadata": {
        "id": "3FTx2xmQ8I67"
      },
      "source": [
        "### Ejemplo 9"
      ]
    },
    {
      "cell_type": "markdown",
      "metadata": {},
      "source": [
        "![](imagenes/P1E9.png)"
      ]
    },
    {
      "cell_type": "code",
      "execution_count": 11,
      "metadata": {
        "colab": {
          "base_uri": "https://localhost:8080/"
        },
        "id": "85gQSxbk8KrI",
        "outputId": "a94593c8-0e75-42ed-faac-1339ef110869"
      },
      "outputs": [
        {
          "name": "stdout",
          "output_type": "stream",
          "text": [
            "Dimension:  2\n",
            "Caras 1:  [[1, 2], [1, 3], [1, 4], [1, 5], [1, 6], [2, 3], [2, 4], [2, 5], [2, 6], [3, 4], [3, 5], [3, 6], [4, 5], [4, 6], [5, 6]]\n",
            "Estrella:  [[1], [1, 2], [1, 2, 5], [1, 2, 6], [1, 3], [1, 3, 4], [1, 3, 6], [1, 4], [1, 4, 5], [1, 5], [1, 6]]\n",
            "Link:  [[2], [2, 5], [2, 6], [3], [3, 4], [3, 6], [4], [4, 5], [5], [6]]\n",
            "Euler:  1\n",
            "Componentes conexas:  1\n"
          ]
        }
      ],
      "source": [
        "sc=Complejo_Simplicial([[1,2,6], [2,3,4], [1,3,4], [1,2,5], [2,3,5], [1,3,6], [2,4,6], [1,4,5], [3,5,6], [4,5,6]])\n",
        "print('Dimension: ',sc.dimension())\n",
        "print('Caras 1: ', sc.carasN(1))\n",
        "print('Estrella: ', sc.st([1]))\n",
        "print('Link: ', sc.link([1]))\n",
        "print('Euler: ', sc.euler())\n",
        "print('Componentes conexas: ', sc.comp_conex())"
      ]
    },
    {
      "cell_type": "markdown",
      "metadata": {
        "id": "5wD7u9qu8r1a"
      },
      "source": [
        "### Ejemplo 10"
      ]
    },
    {
      "cell_type": "code",
      "execution_count": 12,
      "metadata": {
        "colab": {
          "base_uri": "https://localhost:8080/"
        },
        "id": "UWf15HSs8t6u",
        "outputId": "350722ef-686e-44c4-b500-5d988c6af8eb"
      },
      "outputs": [
        {
          "name": "stdout",
          "output_type": "stream",
          "text": [
            "Euler:  -9\n"
          ]
        }
      ],
      "source": [
        "sc1 = Complejo_Simplicial(sc.esqueleto(1))\n",
        "print('Euler: ', sc1.euler())"
      ]
    },
    {
      "cell_type": "markdown",
      "metadata": {
        "id": "M5PqS5IJ8y-S"
      },
      "source": [
        "### Ejemplo 11"
      ]
    },
    {
      "cell_type": "markdown",
      "metadata": {},
      "source": [
        "![](imagenes/P1E11.png)"
      ]
    },
    {
      "cell_type": "code",
      "execution_count": 13,
      "metadata": {
        "colab": {
          "base_uri": "https://localhost:8080/"
        },
        "id": "Pjxq4U8781Rb",
        "outputId": "7cfc29d0-31ba-4503-94fe-ffdd15d7a071"
      },
      "outputs": [
        {
          "name": "stdout",
          "output_type": "stream",
          "text": [
            "Caras:  [[0], [1], [2], [2, 3], [3], [4], [4, 5], [4, 6], [5], [5, 6], [6], [6, 7], [6, 7, 8], [6, 7, 8, 9], [6, 7, 9], [6, 8], [6, 8, 9], [6, 9], [7], [7, 8], [7, 8, 9], [7, 9], [8], [8, 9], [9]]\n",
            "Dimension:  3\n",
            "Caras 0:  [[0], [1], [2], [3], [4], [5], [6], [7], [8], [9]]\n",
            "Caras 1:  [[2, 3], [4, 5], [4, 6], [5, 6], [6, 7], [6, 8], [6, 9], [7, 8], [7, 9], [8, 9]]\n",
            "Caras 2:  [[6, 7, 8], [6, 7, 9], [6, 8, 9], [7, 8, 9]]\n",
            "Caras 3:  [[6, 7, 8, 9]]\n",
            "Estrella:  [[4, 6], [5, 6], [6], [6, 7], [6, 7, 8], [6, 7, 8, 9], [6, 7, 9], [6, 8], [6, 8, 9], [6, 9]]\n",
            "Link:  [[4], [5], [7], [7, 8], [7, 8, 9], [7, 9], [8], [8, 9], [9]]\n",
            "Euler:  3\n",
            "Componentes conexas:  4\n"
          ]
        }
      ],
      "source": [
        "sc=Complejo_Simplicial([[0,], [1,], [2,3], [4,5], [5,6], [4,6], [6,7,8,9]])\n",
        "print('Caras: ', sc.caras())\n",
        "print('Dimension: ',sc.dimension())\n",
        "print('Caras 0: ', sc.carasN(0))\n",
        "print('Caras 1: ', sc.carasN(1))\n",
        "print('Caras 2: ', sc.carasN(2))\n",
        "print('Caras 3: ', sc.carasN(3))\n",
        "print('Estrella: ', sc.st([6]))\n",
        "print('Link: ', sc.link([6]))\n",
        "print('Euler: ', sc.euler())\n",
        "print('Componentes conexas: ', sc.comp_conex())"
      ]
    },
    {
      "cell_type": "markdown",
      "metadata": {
        "id": "nSg65Ancc7z1"
      },
      "source": [
        "## Comprobaciones filtraciones"
      ]
    },
    {
      "cell_type": "markdown",
      "metadata": {
        "id": "Bo2DoE0JdAl-"
      },
      "source": [
        "### Ejemplo 1"
      ]
    },
    {
      "cell_type": "code",
      "execution_count": 14,
      "metadata": {
        "colab": {
          "base_uri": "https://localhost:8080/"
        },
        "id": "Rqr3Q3_zdC1j",
        "outputId": "fbd2dc4a-4180-48a9-a0f7-5717450e8f87"
      },
      "outputs": [
        {
          "name": "stdout",
          "output_type": "stream",
          "text": [
            "Caras:  [[0], [0, 1], [1], [1, 2], [2], [2, 3], [2, 3, 4], [2, 4], [3], [3, 4], [4]]\n",
            "Threshold 2.0\n",
            "Caras K1:  [[0], [0, 1], [1]]\n",
            "Caras K2:  [[0], [0, 1], [1], [1, 2], [2], [2, 3], [2, 4], [3], [4]]\n",
            "Caras K3:  [[0], [0, 1], [1], [1, 2], [2], [2, 3], [2, 4], [3], [3, 4], [4]]\n",
            "Caras K4:  [[0], [0, 1], [1], [1, 2], [2], [2, 3], [2, 3, 4], [2, 4], [3], [3, 4], [4]]\n",
            "[[0], [1], [0, 1], [2], [3], [4], [1, 2], [2, 3], [2, 4], [3, 4], [2, 3, 4]]\n"
          ]
        }
      ],
      "source": [
        "sc=Complejo_Simplicial([])\n",
        "sc.anadirSimplices([[0,1]], 1.0)\n",
        "sc.anadirSimplices([[1,2], [2,3], [2,4]], 2.0)\n",
        "sc.anadirSimplices([[3,4]], 3.0)\n",
        "sc.anadirSimplices([[2,4,3]], 4.0)\n",
        "print('Caras: ', sc.caras())\n",
        "print('Threshold', sc.calculaPesoSimplice([3]))\n",
        "K1=sc.filtracion(1.0)\n",
        "K2=sc.filtracion(2.0)\n",
        "K3=sc.filtracion(3.0)\n",
        "K4=sc.filtracion(4.0)\n",
        "print('Caras K1: ', K1.caras())\n",
        "print('Caras K2: ', K2.caras())\n",
        "print('Caras K3: ', K3.caras())\n",
        "print('Caras K4: ', K4.caras())\n",
        "print(sc.ordenFiltracion())\n"
      ]
    }
  ],
  "metadata": {
    "colab": {
      "collapsed_sections": [
        "iErtvTg70RBG",
        "RmC59TX2rAVe",
        "b9Wp-pJorMjF",
        "1Gvm15e6rRW9",
        "2uuuFTYrueZn",
        "0_SBF6ccxoyY",
        "Nh9C4O0QxzoS",
        "LnnnRJVP4Wx-",
        "HzJGZFUE49Zd",
        "L_zTKPGP5QQP",
        "w6vHP_8-7Vvz",
        "3FTx2xmQ8I67",
        "5wD7u9qu8r1a",
        "M5PqS5IJ8y-S",
        "Bo2DoE0JdAl-",
        "hWe5HRA2M82O"
      ],
      "provenance": []
    },
    "kernelspec": {
      "display_name": "Python 3",
      "language": "python",
      "name": "python3"
    },
    "language_info": {
      "codemirror_mode": {
        "name": "ipython",
        "version": 3
      },
      "file_extension": ".py",
      "mimetype": "text/x-python",
      "name": "python",
      "nbconvert_exporter": "python",
      "pygments_lexer": "ipython3",
      "version": "3.11.0"
    },
    "orig_nbformat": 4
  },
  "nbformat": 4,
  "nbformat_minor": 0
}
